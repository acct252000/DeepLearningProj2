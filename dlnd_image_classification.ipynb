{
 "cells": [
  {
   "cell_type": "markdown",
   "metadata": {
    "collapsed": true,
    "deletable": true,
    "editable": true
   },
   "source": [
    "# Image Classification\n",
    "In this project, you'll classify images from the [CIFAR-10 dataset](https://www.cs.toronto.edu/~kriz/cifar.html).  The dataset consists of airplanes, dogs, cats, and other objects. You'll preprocess the images, then train a convolutional neural network on all the samples. The images need to be normalized and the labels need to be one-hot encoded.  You'll get to apply what you learned and build a convolutional, max pooling, dropout, and fully connected layers.  At the end, you'll get to see your neural network's predictions on the sample images.\n",
    "## Get the Data\n",
    "Run the following cell to download the [CIFAR-10 dataset for python](https://www.cs.toronto.edu/~kriz/cifar-10-python.tar.gz)."
   ]
  },
  {
   "cell_type": "code",
   "execution_count": 1,
   "metadata": {
    "collapsed": false,
    "deletable": true,
    "editable": true
   },
   "outputs": [
    {
     "name": "stderr",
     "output_type": "stream",
     "text": [
      "CIFAR-10 Dataset: 171MB [00:18, 9.27MB/s]                              \n"
     ]
    },
    {
     "name": "stdout",
     "output_type": "stream",
     "text": [
      "All files found!\n"
     ]
    }
   ],
   "source": [
    "\"\"\"\n",
    "DON'T MODIFY ANYTHING IN THIS CELL THAT IS BELOW THIS LINE\n",
    "\"\"\"\n",
    "from urllib.request import urlretrieve\n",
    "from os.path import isfile, isdir\n",
    "from tqdm import tqdm\n",
    "import problem_unittests as tests\n",
    "import tarfile\n",
    "\n",
    "cifar10_dataset_folder_path = 'cifar-10-batches-py'\n",
    "\n",
    "class DLProgress(tqdm):\n",
    "    last_block = 0\n",
    "\n",
    "    def hook(self, block_num=1, block_size=1, total_size=None):\n",
    "        self.total = total_size\n",
    "        self.update((block_num - self.last_block) * block_size)\n",
    "        self.last_block = block_num\n",
    "\n",
    "if not isfile('cifar-10-python.tar.gz'):\n",
    "    with DLProgress(unit='B', unit_scale=True, miniters=1, desc='CIFAR-10 Dataset') as pbar:\n",
    "        urlretrieve(\n",
    "            'https://www.cs.toronto.edu/~kriz/cifar-10-python.tar.gz',\n",
    "            'cifar-10-python.tar.gz',\n",
    "            pbar.hook)\n",
    "\n",
    "if not isdir(cifar10_dataset_folder_path):\n",
    "    with tarfile.open('cifar-10-python.tar.gz') as tar:\n",
    "        tar.extractall()\n",
    "        tar.close()\n",
    "\n",
    "\n",
    "tests.test_folder_path(cifar10_dataset_folder_path)"
   ]
  },
  {
   "cell_type": "markdown",
   "metadata": {
    "deletable": true,
    "editable": true
   },
   "source": [
    "## Explore the Data\n",
    "The dataset is broken into batches to prevent your machine from running out of memory.  The CIFAR-10 dataset consists of 5 batches, named `data_batch_1`, `data_batch_2`, etc.. Each batch contains the labels and images that are one of the following:\n",
    "* airplane\n",
    "* automobile\n",
    "* bird\n",
    "* cat\n",
    "* deer\n",
    "* dog\n",
    "* frog\n",
    "* horse\n",
    "* ship\n",
    "* truck\n",
    "\n",
    "Understanding a dataset is part of making predictions on the data.  Play around with the code cell below by changing the `batch_id` and `sample_id`. The `batch_id` is the id for a batch (1-5). The `sample_id` is the id for a image and label pair in the batch.\n",
    "\n",
    "Ask yourself \"What are all possible labels?\", \"What is the range of values for the image data?\", \"Are the labels in order or random?\".  Answers to questions like these will help you preprocess the data and end up with better predictions."
   ]
  },
  {
   "cell_type": "code",
   "execution_count": 2,
   "metadata": {
    "collapsed": false,
    "deletable": true,
    "editable": true
   },
   "outputs": [
    {
     "name": "stdout",
     "output_type": "stream",
     "text": [
      "\n",
      "Stats of batch 1:\n",
      "Samples: 10000\n",
      "Label Counts: {0: 1005, 1: 974, 2: 1032, 3: 1016, 4: 999, 5: 937, 6: 1030, 7: 1001, 8: 1025, 9: 981}\n",
      "First 20 Labels: [6, 9, 9, 4, 1, 1, 2, 7, 8, 3, 4, 7, 7, 2, 9, 9, 9, 3, 2, 6]\n",
      "\n",
      "Example of Image 7:\n",
      "Image - Min Value: 9 Max Value: 248\n",
      "Image - Shape: (32, 32, 3)\n",
      "Label - Label Id: 7 Name: horse\n"
     ]
    },
    {
     "data": {
      "image/png": "[encoded data removed]",
      "text/plain": [
       "<matplotlib.figure.Figure at 0x7fb9c808e080>"
      ]
     },
     "metadata": {
      "image/png": {
       "height": 250,
       "width": 253
      }
     },
     "output_type": "display_data"
    }
   ],
   "source": [
    "%matplotlib inline\n",
    "%config InlineBackend.figure_format = 'retina'\n",
    "\n",
    "import helper\n",
    "import numpy as np\n",
    "import tensorflow as tf\n",
    "\n",
    "# Explore the dataset\n",
    "batch_id = 1\n",
    "sample_id = 7\n",
    "helper.display_stats(cifar10_dataset_folder_path, batch_id, sample_id)"
   ]
  },
  {
   "cell_type": "markdown",
   "metadata": {
    "deletable": true,
    "editable": true
   },
   "source": [
    "## Implement Preprocess Functions\n",
    "### Normalize\n",
    "In the cell below, implement the `normalize` function to take in image data, `x`, and return it as a normalized Numpy array. The values should be in the range of 0 to 1, inclusive.  The return object should be the same shape as `x`."
   ]
  },
  {
   "cell_type": "code",
   "execution_count": 3,
   "metadata": {
    "collapsed": false,
    "deletable": true,
    "editable": true
   },
   "outputs": [
    {
     "name": "stdout",
     "output_type": "stream",
     "text": [
      "Tests Passed\n"
     ]
    }
   ],
   "source": [
    "def normalize(x):\n",
    "    \"\"\"\n",
    "    Normalize a list of sample image data in the range of 0 to 1\n",
    "    : x: List of image data.  The image shape is (32, 32, 3)\n",
    "    : return: Numpy array of normalize data\n",
    "    \n",
    "    \"\"\"\n",
    "   \n",
    "  \n",
    "    return x/255.0\n",
    "\n",
    "\n",
    "\"\"\"\n",
    "DON'T MODIFY ANYTHING IN THIS CELL THAT IS BELOW THIS LINE\n",
    "\"\"\"\n",
    "tests.test_normalize(normalize)"
   ]
  },
  {
   "cell_type": "markdown",
   "metadata": {
    "deletable": true,
    "editable": true
   },
   "source": [
    "### One-hot encode\n",
    "Just like the previous code cell, you'll be implementing a function for preprocessing.  This time, you'll implement the `one_hot_encode` function. The input, `x`, are a list of labels.  Implement the function to return the list of labels as One-Hot encoded Numpy array.  The possible values for labels are 0 to 9. The one-hot encoding function should return the same encoding for each value between each call to `one_hot_encode`.  Make sure to save the map of encodings outside the function.\n",
    "\n",
    "\n",
    "Hint: Don't reinvent the wheel."
   ]
  },
  {
   "cell_type": "code",
   "execution_count": 4,
   "metadata": {
    "collapsed": false,
    "deletable": true,
    "editable": true
   },
   "outputs": [
    {
     "name": "stdout",
     "output_type": "stream",
     "text": [
      "Tests Passed\n"
     ]
    }
   ],
   "source": [
    "import sklearn.preprocessing \n",
    "\n",
    "label_binarizer = sklearn.preprocessing.LabelBinarizer()\n",
    "label_binarizer.fit(range(10))\n",
    "\n",
    "def one_hot_encode(x):\n",
    "    \"\"\"\n",
    "    One hot encode a list of sample labels. Return a one-hot encoded vector for each label.\n",
    "    : x: List of sample Labels\n",
    "    : return: Numpy array of one-hot encoded labels\n",
    "    \"\"\"\n",
    "    b = label_binarizer.transform(x)\n",
    "    return b\n",
    "\n",
    "\n",
    "\"\"\"\n",
    "DON'T MODIFY ANYTHING IN THIS CELL THAT IS BELOW THIS LINE\n",
    "\"\"\"\n",
    "tests.test_one_hot_encode(one_hot_encode)"
   ]
  },
  {
   "cell_type": "markdown",
   "metadata": {
    "deletable": true,
    "editable": true
   },
   "source": [
    "### Randomize Data\n",
    "As you saw from exploring the data above, the order of the samples are randomized.  It doesn't hurt to randomize it again, but you don't need to for this dataset."
   ]
  },
  {
   "cell_type": "markdown",
   "metadata": {
    "deletable": true,
    "editable": true
   },
   "source": [
    "## Preprocess all the data and save it\n",
    "Running the code cell below will preprocess all the CIFAR-10 data and save it to file. The code below also uses 10% of the training data for validation."
   ]
  },
  {
   "cell_type": "code",
   "execution_count": 5,
   "metadata": {
    "collapsed": false,
    "deletable": true,
    "editable": true
   },
   "outputs": [],
   "source": [
    "\"\"\"\n",
    "DON'T MODIFY ANYTHING IN THIS CELL\n",
    "\"\"\"\n",
    "# Preprocess Training, Validation, and Testing Data\n",
    "helper.preprocess_and_save_data(cifar10_dataset_folder_path, normalize, one_hot_encode)"
   ]
  },
  {
   "cell_type": "markdown",
   "metadata": {
    "deletable": true,
    "editable": true
   },
   "source": [
    "# Check Point\n",
    "This is your first checkpoint.  If you ever decide to come back to this notebook or have to restart the notebook, you can start from here.  The preprocessed data has been saved to disk."
   ]
  },
  {
   "cell_type": "code",
   "execution_count": 25,
   "metadata": {
    "collapsed": false,
    "deletable": true,
    "editable": true
   },
   "outputs": [],
   "source": [
    "\"\"\"\n",
    "DON'T MODIFY ANYTHING IN THIS CELL\n",
    "\"\"\"\n",
    "import pickle\n",
    "import problem_unittests as tests\n",
    "import helper\n",
    "\n",
    "# Load the Preprocessed Validation data\n",
    "valid_features, valid_labels = pickle.load(open('preprocess_validation.p', mode='rb'))\n"
   ]
  },
  {
   "cell_type": "markdown",
   "metadata": {
    "deletable": true,
    "editable": true
   },
   "source": [
    "## Build the network\n",
    "For the neural network, you'll build each layer into a function.  Most of the code you've seen has been outside of functions. To test your code more thoroughly, we require that you put each layer in a function.  This allows us to give you better feedback and test for simple mistakes using our unittests before you submit your project.\n",
    "\n",
    ">**Note:** If you're finding it hard to dedicate enough time for this course each week, we've provided a small shortcut to this part of the project. In the next couple of problems, you'll have the option to use classes from the [TensorFlow Layers](https://www.tensorflow.org/api_docs/python/tf/layers) or [TensorFlow Layers (contrib)](https://www.tensorflow.org/api_guides/python/contrib.layers) packages to build each layer, except the layers you build in the \"Convolutional and Max Pooling Layer\" section.  TF Layers is similar to Keras's and TFLearn's abstraction to layers, so it's easy to pickup.\n",
    "\n",
    ">However, if you would like to get the most out of this course, try to solve all the problems _without_ using anything from the TF Layers packages. You **can** still use classes from other packages that happen to have the same name as ones you find in TF Layers! For example, instead of using the TF Layers version of the `conv2d` class, [tf.layers.conv2d](https://www.tensorflow.org/api_docs/python/tf/layers/conv2d), you would want to use the TF Neural Network version of `conv2d`, [tf.nn.conv2d](https://www.tensorflow.org/api_docs/python/tf/nn/conv2d). \n",
    "\n",
    "Let's begin!\n",
    "\n",
    "### Input\n",
    "The neural network needs to read the image data, one-hot encoded labels, and dropout keep probability. Implement the following functions\n",
    "* Implement `neural_net_image_input`\n",
    " * Return a [TF Placeholder](https://www.tensorflow.org/api_docs/python/tf/placeholder)\n",
    " * Set the shape using `image_shape` with batch size set to `None`.\n",
    " * Name the TensorFlow placeholder \"x\" using the TensorFlow `name` parameter in the [TF Placeholder](https://www.tensorflow.org/api_docs/python/tf/placeholder).\n",
    "* Implement `neural_net_label_input`\n",
    " * Return a [TF Placeholder](https://www.tensorflow.org/api_docs/python/tf/placeholder)\n",
    " * Set the shape using `n_classes` with batch size set to `None`.\n",
    " * Name the TensorFlow placeholder \"y\" using the TensorFlow `name` parameter in the [TF Placeholder](https://www.tensorflow.org/api_docs/python/tf/placeholder).\n",
    "* Implement `neural_net_keep_prob_input`\n",
    " * Return a [TF Placeholder](https://www.tensorflow.org/api_docs/python/tf/placeholder) for dropout keep probability.\n",
    " * Name the TensorFlow placeholder \"keep_prob\" using the TensorFlow `name` parameter in the [TF Placeholder](https://www.tensorflow.org/api_docs/python/tf/placeholder).\n",
    "\n",
    "These names will be used at the end of the project to load your saved model.\n",
    "\n",
    "Note: `None` for shapes in TensorFlow allow for a dynamic size."
   ]
  },
  {
   "cell_type": "code",
   "execution_count": 26,
   "metadata": {
    "collapsed": false,
    "deletable": true,
    "editable": true
   },
   "outputs": [
    {
     "name": "stdout",
     "output_type": "stream",
     "text": [
      "Image Input Tests Passed.\n",
      "Label Input Tests Passed.\n",
      "Keep Prob Tests Passed.\n"
     ]
    }
   ],
   "source": [
    "import tensorflow as tf\n",
    "\n",
    "def neural_net_image_input(image_shape):\n",
    "    \"\"\"\n",
    "    Return a Tensor for a batch of image input\n",
    "    : image_shape: Shape of the images\n",
    "    : return: Tensor for image input.\n",
    "    \"\"\"\n",
    "    x = tf.placeholder(tf.float32,[None,image_shape[0],image_shape[1],image_shape[2]],name='x')\n",
    "    return x\n",
    "\n",
    "\n",
    "def neural_net_label_input(n_classes):\n",
    "    \"\"\"\n",
    "    Return a Tensor for a batch of label input\n",
    "    : n_classes: Number of classes\n",
    "    : return: Tensor for label input.\n",
    "    \"\"\"\n",
    "    y = tf.placeholder(tf.float32,[None, n_classes],name='y')\n",
    "    return y\n",
    "\n",
    "\n",
    "def neural_net_keep_prob_input():\n",
    "    \"\"\"\n",
    "    Return a Tensor for keep probability\n",
    "    : return: Tensor for keep probability.\n",
    "    \"\"\"\n",
    "    kp = tf.placeholder(tf.float32,name='keep_prob')\n",
    "    return kp\n",
    "\n",
    "\n",
    "\"\"\"\n",
    "DON'T MODIFY ANYTHING IN THIS CELL THAT IS BELOW THIS LINE\n",
    "\"\"\"\n",
    "tf.reset_default_graph()\n",
    "tests.test_nn_image_inputs(neural_net_image_input)\n",
    "tests.test_nn_label_inputs(neural_net_label_input)\n",
    "tests.test_nn_keep_prob_inputs(neural_net_keep_prob_input)"
   ]
  },
  {
   "cell_type": "markdown",
   "metadata": {
    "deletable": true,
    "editable": true
   },
   "source": [
    "### Convolution and Max Pooling Layer\n",
    "Convolution layers have a lot of success with images. For this code cell, you should implement the function `conv2d_maxpool` to apply convolution then max pooling:\n",
    "* Create the weight and bias using `conv_ksize`, `conv_num_outputs` and the shape of `x_tensor`.\n",
    "* Apply a convolution to `x_tensor` using weight and `conv_strides`.\n",
    " * We recommend you use same padding, but you're welcome to use any padding.\n",
    "* Add bias\n",
    "* Add a nonlinear activation to the convolution.\n",
    "* Apply Max Pooling using `pool_ksize` and `pool_strides`.\n",
    " * We recommend you use same padding, but you're welcome to use any padding.\n",
    "\n",
    "**Note:** You **can't** use [TensorFlow Layers](https://www.tensorflow.org/api_docs/python/tf/layers) or [TensorFlow Layers (contrib)](https://www.tensorflow.org/api_guides/python/contrib.layers) for **this** layer, but you can still use TensorFlow's [Neural Network](https://www.tensorflow.org/api_docs/python/tf/nn) package. You may still use the shortcut option for all the **other** layers."
   ]
  },
  {
   "cell_type": "code",
   "execution_count": 36,
   "metadata": {
    "collapsed": false,
    "deletable": true,
    "editable": true
   },
   "outputs": [
    {
     "name": "stdout",
     "output_type": "stream",
     "text": [
      "Tests Passed\n"
     ]
    }
   ],
   "source": [
    "def conv2d_maxpool(x_tensor, conv_num_outputs, conv_ksize, conv_strides, pool_ksize, pool_strides):\n",
    "    \"\"\"\n",
    "    Apply convolution then max pooling to x_tensor\n",
    "    :param x_tensor: TensorFlow Tensor\n",
    "    :param conv_num_outputs: Number of outputs for the convolutional layer\n",
    "    :param conv_ksize: kernal size 2-D Tuple for the convolutional layer\n",
    "    :param conv_strides: Stride 2-D Tuple for convolution\n",
    "    :param pool_ksize: kernal size 2-D Tuple for pool\n",
    "    :param pool_strides: Stride 2-D Tuple for pool\n",
    "    : return: A tensor that represents convolution and max pooling of x_tensor\n",
    "    \"\"\"\n",
    "\n",
    "    wc1 = tf.Variable(tf.random_normal([conv_ksize[0],conv_ksize[1],x_tensor.get_shape().as_list()[3],conv_num_outputs],mean=0.0, stddev=0.01))\n",
    "    bc1 = tf.Variable(tf.zeros([conv_num_outputs]))\n",
    "    x = tf.nn.conv2d(x_tensor,wc1,strides=[1,conv_strides[0],conv_strides[1],1], padding='SAME')\n",
    "    x = tf.nn.bias_add(x,bc1)\n",
    "    x = tf.nn.relu(x)\n",
    "    x = tf.nn.max_pool(x,ksize=[1,pool_ksize[0],pool_ksize[1],1],strides=[1,pool_strides[0],pool_strides[1],1],padding='SAME')\n",
    "    return tf.nn.relu(x)\n",
    "\n",
    "\"\"\"\n",
    "DON'T MODIFY ANYTHING IN THIS CELL THAT IS BELOW THIS LINE\n",
    "\"\"\"\n",
    "tests.test_con_pool(conv2d_maxpool)"
   ]
  },
  {
   "cell_type": "markdown",
   "metadata": {
    "deletable": true,
    "editable": true
   },
   "source": [
    "### Flatten Layer\n",
    "Implement the `flatten` function to change the dimension of `x_tensor` from a 4-D tensor to a 2-D tensor.  The output should be the shape (*Batch Size*, *Flattened Image Size*). Shortcut option: you can use classes from the [TensorFlow Layers](https://www.tensorflow.org/api_docs/python/tf/layers) or [TensorFlow Layers (contrib)](https://www.tensorflow.org/api_guides/python/contrib.layers) packages for this layer. For more of a challenge, only use other TensorFlow packages."
   ]
  },
  {
   "cell_type": "code",
   "execution_count": 37,
   "metadata": {
    "collapsed": false,
    "deletable": true,
    "editable": true
   },
   "outputs": [
    {
     "name": "stdout",
     "output_type": "stream",
     "text": [
      "Tests Passed\n"
     ]
    }
   ],
   "source": [
    "def flatten(x_tensor):\n",
    "    \"\"\"\n",
    "    Flatten x_tensor to (Batch Size, Flattened Image Size)\n",
    "    : x_tensor: A tensor of size (Batch Size, ...), where ... are the image dimensions.\n",
    "    : return: A tensor of size (Batch Size, Flattened Image Size).\n",
    "    \"\"\"\n",
    "    #convert tensor to list shape excluding batch size\n",
    "    x_shape = x_tensor.get_shape().as_list()[1:]\n",
    "   \n",
    "    #multiply size dimensions\n",
    "    flat_image_size=1\n",
    "    for i in range(len(x_shape)):\n",
    "        flat_image_size*=x_shape[i]\n",
    "    \n",
    "    return tf.reshape(x_tensor,[-1,flat_image_size])\n",
    "\n",
    "\n",
    "\"\"\"\n",
    "DON'T MODIFY ANYTHING IN THIS CELL THAT IS BELOW THIS LINE\n",
    "\"\"\"\n",
    "tests.test_flatten(flatten)"
   ]
  },
  {
   "cell_type": "markdown",
   "metadata": {
    "deletable": true,
    "editable": true
   },
   "source": [
    "### Fully-Connected Layer\n",
    "Implement the `fully_conn` function to apply a fully connected layer to `x_tensor` with the shape (*Batch Size*, *num_outputs*). Shortcut option: you can use classes from the [TensorFlow Layers](https://www.tensorflow.org/api_docs/python/tf/layers) or [TensorFlow Layers (contrib)](https://www.tensorflow.org/api_guides/python/contrib.layers) packages for this layer. For more of a challenge, only use other TensorFlow packages."
   ]
  },
  {
   "cell_type": "code",
   "execution_count": 38,
   "metadata": {
    "collapsed": false,
    "deletable": true,
    "editable": true
   },
   "outputs": [
    {
     "name": "stdout",
     "output_type": "stream",
     "text": [
      "Tests Passed\n"
     ]
    }
   ],
   "source": [
    "def fully_conn(x_tensor, num_outputs):\n",
    "    \"\"\"\n",
    "    Apply a fully connected layer to x_tensor using weight and bias\n",
    "    : x_tensor: A 2-D tensor where the first dimension is batch size.\n",
    "    : num_outputs: The number of output that the new tensor should be.\n",
    "    : return: A 2-D tensor where the second dimension is num_outputs.\n",
    "    \"\"\"\n",
    "    \n",
    "    dimension1 = x_tensor.get_shape().as_list()[1]\n",
    "    fcw = tf.Variable(tf.random_normal([dimension1,num_outputs],mean=0.0, stddev=0.01))\n",
    "    bfc = tf.Variable(tf.zeros([num_outputs]))\n",
    "    fc = tf.add(tf.matmul(x_tensor,fcw),bfc)\n",
    "    fc = tf.nn.relu(fc)\n",
    "    \n",
    "    return fc\n",
    "    \n",
    "\n",
    "\"\"\"\n",
    "DON'T MODIFY ANYTHING IN THIS CELL THAT IS BELOW THIS LINE\n",
    "\"\"\"\n",
    "tests.test_fully_conn(fully_conn)"
   ]
  },
  {
   "cell_type": "markdown",
   "metadata": {
    "deletable": true,
    "editable": true
   },
   "source": [
    "### Output Layer\n",
    "Implement the `output` function to apply a fully connected layer to `x_tensor` with the shape (*Batch Size*, *num_outputs*). Shortcut option: you can use classes from the [TensorFlow Layers](https://www.tensorflow.org/api_docs/python/tf/layers) or [TensorFlow Layers (contrib)](https://www.tensorflow.org/api_guides/python/contrib.layers) packages for this layer. For more of a challenge, only use other TensorFlow packages.\n",
    "\n",
    "**Note:** Activation, softmax, or cross entropy should **not** be applied to this."
   ]
  },
  {
   "cell_type": "code",
   "execution_count": 39,
   "metadata": {
    "collapsed": false,
    "deletable": true,
    "editable": true
   },
   "outputs": [
    {
     "name": "stdout",
     "output_type": "stream",
     "text": [
      "Tests Passed\n"
     ]
    }
   ],
   "source": [
    "def output(x_tensor, num_outputs):\n",
    "    \"\"\"\n",
    "    Apply a output layer to x_tensor using weight and bias\n",
    "    : x_tensor: A 2-D tensor where the first dimension is batch size.\n",
    "    : num_outputs: The number of output that the new tensor should be.\n",
    "    : return: A 2-D tensor where the second dimension is num_outputs.\n",
    "    \"\"\"\n",
    "    \n",
    "    dimension1 = x_tensor.get_shape().as_list()[1]\n",
    "    olw = tf.Variable(tf.random_normal([dimension1,num_outputs],mean=0.0, stddev=0.01))\n",
    "    bol = tf.Variable(tf.zeros([num_outputs]))\n",
    "    ol = tf.add(tf.matmul(x_tensor,olw),bol)\n",
    "\n",
    "    \n",
    "    return ol\n",
    "    \n",
    "    \n",
    "    return None\n",
    "\n",
    "\n",
    "\"\"\"\n",
    "DON'T MODIFY ANYTHING IN THIS CELL THAT IS BELOW THIS LINE\n",
    "\"\"\"\n",
    "tests.test_output(output)"
   ]
  },
  {
   "cell_type": "markdown",
   "metadata": {
    "deletable": true,
    "editable": true
   },
   "source": [
    "### Create Convolutional Model\n",
    "Implement the function `conv_net` to create a convolutional neural network model. The function takes in a batch of images, `x`, and outputs logits.  Use the layers you created above to create this model:\n",
    "\n",
    "* Apply 1, 2, or 3 Convolution and Max Pool layers\n",
    "* Apply a Flatten Layer\n",
    "* Apply 1, 2, or 3 Fully Connected Layers\n",
    "* Apply an Output Layer\n",
    "* Return the output\n",
    "* Apply [TensorFlow's Dropout](https://www.tensorflow.org/api_docs/python/tf/nn/dropout) to one or more layers in the model using `keep_prob`. "
   ]
  },
  {
   "cell_type": "code",
   "execution_count": 45,
   "metadata": {
    "collapsed": false,
    "deletable": true,
    "editable": true
   },
   "outputs": [
    {
     "name": "stdout",
     "output_type": "stream",
     "text": [
      "Tensor(\"x:0\", shape=(?, 32, 32, 3), dtype=float32)\n",
      "Tensor(\"Placeholder:0\", shape=(?, 32, 32, 3), dtype=float32)\n",
      "Neural Network Built!\n"
     ]
    }
   ],
   "source": [
    "def conv_net(x, keep_prob):\n",
    "    \"\"\"\n",
    "    Create a convolutional neural network model\n",
    "    : x: Placeholder tensor that holds image data.\n",
    "    : keep_prob: Placeholder tensor that hold dropout keep probability.\n",
    "    : return: Tensor that represents logits\n",
    "    \"\"\"\n",
    "    print(x)\n",
    "    conv_num_outputs_one = 32\n",
    "    conv_num_outputs_two = 64\n",
    "    conv_ksize = (4,4)\n",
    "    conv_strides = (2,2)\n",
    "    pool_ksize = (2,2)\n",
    "    pool_strides = (1,1)\n",
    "    num_outputs = 350\n",
    "    num_classes = 10\n",
    "   \n",
    "    #Apply two convolutional layers\n",
    "    conv1 = conv2d_maxpool(x, conv_num_outputs_one, conv_ksize, conv_strides, pool_ksize, pool_strides)\n",
    "    conv2 = conv2d_maxpool(conv1, conv_num_outputs_two, conv_ksize, conv_strides, pool_ksize, pool_strides)\n",
    "    \n",
    "    #flatten last convolutional layer\n",
    "    conv2 = flatten(conv2)\n",
    "    \n",
    "    #Apply one fully connected layer\n",
    "    fc1 = fully_conn(conv2, num_outputs)\n",
    "    fc1 = tf.nn.dropout(fc1,keep_prob)\n",
    "    \n",
    "    #Add output layer with 10 classes\n",
    "    output_layer = output(fc1,num_classes)\n",
    "    \n",
    "    return output_layer\n",
    "\n",
    "\n",
    "\"\"\"\n",
    "DON'T MODIFY ANYTHING IN THIS CELL THAT IS BELOW THIS LINE\n",
    "\"\"\"\n",
    "\n",
    "##############################\n",
    "## Build the Neural Network ##\n",
    "##############################\n",
    "\n",
    "# Remove previous weights, bias, inputs, etc..\n",
    "tf.reset_default_graph()\n",
    "\n",
    "# Inputs\n",
    "x = neural_net_image_input((32, 32, 3))\n",
    "y = neural_net_label_input(10)\n",
    "keep_prob = neural_net_keep_prob_input()\n",
    "\n",
    "# Model\n",
    "logits = conv_net(x, keep_prob)\n",
    "\n",
    "# Name logits Tensor, so that is can be loaded from disk after training\n",
    "logits = tf.identity(logits, name='logits')\n",
    "\n",
    "# Loss and Optimizer\n",
    "cost = tf.reduce_mean(tf.nn.softmax_cross_entropy_with_logits(logits=logits, labels=y))\n",
    "optimizer = tf.train.AdamOptimizer().minimize(cost)\n",
    "\n",
    "# Accuracy\n",
    "correct_pred = tf.equal(tf.argmax(logits, 1), tf.argmax(y, 1))\n",
    "accuracy = tf.reduce_mean(tf.cast(correct_pred, tf.float32), name='accuracy')\n",
    "\n",
    "tests.test_conv_net(conv_net)"
   ]
  },
  {
   "cell_type": "markdown",
   "metadata": {
    "deletable": true,
    "editable": true
   },
   "source": [
    "## Train the Neural Network\n",
    "### Single Optimization\n",
    "Implement the function `train_neural_network` to do a single optimization.  The optimization should use `optimizer` to optimize in `session` with a `feed_dict` of the following:\n",
    "* `x` for image input\n",
    "* `y` for labels\n",
    "* `keep_prob` for keep probability for dropout\n",
    "\n",
    "This function will be called for each batch, so `tf.global_variables_initializer()` has already been called.\n",
    "\n",
    "Note: Nothing needs to be returned. This function is only optimizing the neural network."
   ]
  },
  {
   "cell_type": "code",
   "execution_count": 46,
   "metadata": {
    "collapsed": false,
    "deletable": true,
    "editable": true
   },
   "outputs": [
    {
     "name": "stdout",
     "output_type": "stream",
     "text": [
      "Tests Passed\n"
     ]
    }
   ],
   "source": [
    "def train_neural_network(session, optimizer, keep_probability, feature_batch, label_batch):\n",
    "    \"\"\"\n",
    "    Optimize the session on a batch of images and labels\n",
    "    : session: Current TensorFlow session\n",
    "    : optimizer: TensorFlow optimizer function\n",
    "    : keep_probability: keep probability\n",
    "    : feature_batch: Batch of Numpy image data\n",
    "    : label_batch: Batch of Numpy label data\n",
    "    \"\"\"\n",
    "   \n",
    "    session.run(optimizer, feed_dict = {\n",
    "        x: feature_batch,\n",
    "        y: label_batch,\n",
    "        keep_prob: keep_probability\n",
    "    })\n",
    "\n",
    "    pass\n",
    "\n",
    "\n",
    "\"\"\"\n",
    "DON'T MODIFY ANYTHING IN THIS CELL THAT IS BELOW THIS LINE\n",
    "\"\"\"\n",
    "tests.test_train_nn(train_neural_network)"
   ]
  },
  {
   "cell_type": "markdown",
   "metadata": {
    "deletable": true,
    "editable": true
   },
   "source": [
    "### Show Stats\n",
    "Implement the function `print_stats` to print loss and validation accuracy.  Use the global variables `valid_features` and `valid_labels` to calculate validation accuracy.  Use a keep probability of `1.0` to calculate the loss and validation accuracy."
   ]
  },
  {
   "cell_type": "code",
   "execution_count": 47,
   "metadata": {
    "collapsed": false,
    "deletable": true,
    "editable": true
   },
   "outputs": [],
   "source": [
    "def print_stats(session, feature_batch, label_batch, cost, accuracy):\n",
    "    \"\"\"\n",
    "    Print information about loss and validation accuracy\n",
    "    : session: Current TensorFlow session\n",
    "    : feature_batch: Batch of Numpy image data\n",
    "    : label_batch: Batch of Numpy label data\n",
    "    : cost: TensorFlow cost function\n",
    "    : accuracy: TensorFlow accuracy function\n",
    "    \"\"\"\n",
    "    loss = session.run(cost, feed_dict={\n",
    "        x: feature_batch,\n",
    "        y: label_batch,\n",
    "        keep_prob: 1.})\n",
    "    valid_acc = session.run(accuracy, feed_dict={\n",
    "        x: valid_features,\n",
    "        y: valid_labels,\n",
    "        keep_prob: 1.})\n",
    "    print('Loss:{:>10.4f} Validiation Accuracy: {:.6f}'.format(loss,valid_acc))\n",
    "    \n",
    "    pass"
   ]
  },
  {
   "cell_type": "markdown",
   "metadata": {
    "deletable": true,
    "editable": true
   },
   "source": [
    "### Hyperparameters\n",
    "Tune the following parameters:\n",
    "* Set `epochs` to the number of iterations until the network stops learning or start overfitting\n",
    "* Set `batch_size` to the highest number that your machine has memory for.  Most people set them to common sizes of memory:\n",
    " * 64\n",
    " * 128\n",
    " * 256\n",
    " * ...\n",
    "* Set `keep_probability` to the probability of keeping a node using dropout"
   ]
  },
  {
   "cell_type": "code",
   "execution_count": 48,
   "metadata": {
    "collapsed": true,
    "deletable": true,
    "editable": true
   },
   "outputs": [],
   "source": [
    "# TODO: Tune Parameters\n",
    "epochs = 55\n",
    "batch_size = 2048\n",
    "keep_probability = 0.5"
   ]
  },
  {
   "cell_type": "markdown",
   "metadata": {
    "deletable": true,
    "editable": true
   },
   "source": [
    "### Train on a Single CIFAR-10 Batch\n",
    "Instead of training the neural network on all the CIFAR-10 batches of data, let's use a single batch. This should save time while you iterate on the model to get a better accuracy.  Once the final validation accuracy is 50% or greater, run the model on all the data in the next section."
   ]
  },
  {
   "cell_type": "code",
   "execution_count": 49,
   "metadata": {
    "collapsed": false,
    "deletable": true,
    "editable": true
   },
   "outputs": [
    {
     "name": "stdout",
     "output_type": "stream",
     "text": [
      "Checking the Training on a Single Batch...\n",
      "Epoch  1, CIFAR-10 Batch 1:  Loss:    2.2845 Validiation Accuracy: 0.111600\n",
      "Epoch  2, CIFAR-10 Batch 1:  Loss:    2.1864 Validiation Accuracy: 0.175600\n",
      "Epoch  3, CIFAR-10 Batch 1:  Loss:    2.1088 Validiation Accuracy: 0.224200\n",
      "Epoch  4, CIFAR-10 Batch 1:  Loss:    2.0989 Validiation Accuracy: 0.243400\n",
      "Epoch  5, CIFAR-10 Batch 1:  Loss:    2.0768 Validiation Accuracy: 0.250400\n",
      "Epoch  6, CIFAR-10 Batch 1:  Loss:    2.0403 Validiation Accuracy: 0.271400\n",
      "Epoch  7, CIFAR-10 Batch 1:  Loss:    2.0164 Validiation Accuracy: 0.267400\n",
      "Epoch  8, CIFAR-10 Batch 1:  Loss:    2.0008 Validiation Accuracy: 0.271000\n",
      "Epoch  9, CIFAR-10 Batch 1:  Loss:    1.9842 Validiation Accuracy: 0.281200\n",
      "Epoch 10, CIFAR-10 Batch 1:  Loss:    1.9611 Validiation Accuracy: 0.289000\n",
      "Epoch 11, CIFAR-10 Batch 1:  Loss:    1.9320 Validiation Accuracy: 0.300000\n",
      "Epoch 12, CIFAR-10 Batch 1:  Loss:    1.9003 Validiation Accuracy: 0.320200\n",
      "Epoch 13, CIFAR-10 Batch 1:  Loss:    1.8660 Validiation Accuracy: 0.331200\n",
      "Epoch 14, CIFAR-10 Batch 1:  Loss:    1.8349 Validiation Accuracy: 0.345600\n",
      "Epoch 15, CIFAR-10 Batch 1:  Loss:    1.8001 Validiation Accuracy: 0.349400\n",
      "Epoch 16, CIFAR-10 Batch 1:  Loss:    1.7790 Validiation Accuracy: 0.360400\n",
      "Epoch 17, CIFAR-10 Batch 1:  Loss:    1.7656 Validiation Accuracy: 0.368000\n",
      "Epoch 18, CIFAR-10 Batch 1:  Loss:    1.7399 Validiation Accuracy: 0.366800\n",
      "Epoch 19, CIFAR-10 Batch 1:  Loss:    1.7494 Validiation Accuracy: 0.371600\n",
      "Epoch 20, CIFAR-10 Batch 1:  Loss:    1.7100 Validiation Accuracy: 0.382000\n",
      "Epoch 21, CIFAR-10 Batch 1:  Loss:    1.6643 Validiation Accuracy: 0.393800\n",
      "Epoch 22, CIFAR-10 Batch 1:  Loss:    1.6541 Validiation Accuracy: 0.393000\n",
      "Epoch 23, CIFAR-10 Batch 1:  Loss:    1.6231 Validiation Accuracy: 0.402200\n",
      "Epoch 24, CIFAR-10 Batch 1:  Loss:    1.6029 Validiation Accuracy: 0.408800\n",
      "Epoch 25, CIFAR-10 Batch 1:  Loss:    1.5882 Validiation Accuracy: 0.409400\n",
      "Epoch 26, CIFAR-10 Batch 1:  Loss:    1.5821 Validiation Accuracy: 0.415600\n",
      "Epoch 27, CIFAR-10 Batch 1:  Loss:    1.5582 Validiation Accuracy: 0.424200\n",
      "Epoch 28, CIFAR-10 Batch 1:  Loss:    1.5382 Validiation Accuracy: 0.427800\n",
      "Epoch 29, CIFAR-10 Batch 1:  Loss:    1.5269 Validiation Accuracy: 0.432400\n",
      "Epoch 30, CIFAR-10 Batch 1:  Loss:    1.5171 Validiation Accuracy: 0.432000\n",
      "Epoch 31, CIFAR-10 Batch 1:  Loss:    1.4958 Validiation Accuracy: 0.436800\n",
      "Epoch 32, CIFAR-10 Batch 1:  Loss:    1.4896 Validiation Accuracy: 0.439200\n",
      "Epoch 33, CIFAR-10 Batch 1:  Loss:    1.4795 Validiation Accuracy: 0.443600\n",
      "Epoch 34, CIFAR-10 Batch 1:  Loss:    1.4602 Validiation Accuracy: 0.451000\n",
      "Epoch 35, CIFAR-10 Batch 1:  Loss:    1.4355 Validiation Accuracy: 0.454800\n",
      "Epoch 36, CIFAR-10 Batch 1:  Loss:    1.4256 Validiation Accuracy: 0.457800\n",
      "Epoch 37, CIFAR-10 Batch 1:  Loss:    1.4016 Validiation Accuracy: 0.464400\n",
      "Epoch 38, CIFAR-10 Batch 1:  Loss:    1.3944 Validiation Accuracy: 0.462800\n",
      "Epoch 39, CIFAR-10 Batch 1:  Loss:    1.3694 Validiation Accuracy: 0.471000\n",
      "Epoch 40, CIFAR-10 Batch 1:  Loss:    1.3672 Validiation Accuracy: 0.470200\n",
      "Epoch 41, CIFAR-10 Batch 1:  Loss:    1.3605 Validiation Accuracy: 0.466000\n",
      "Epoch 42, CIFAR-10 Batch 1:  Loss:    1.3291 Validiation Accuracy: 0.475200\n",
      "Epoch 43, CIFAR-10 Batch 1:  Loss:    1.3268 Validiation Accuracy: 0.483000\n",
      "Epoch 44, CIFAR-10 Batch 1:  Loss:    1.3150 Validiation Accuracy: 0.479800\n",
      "Epoch 45, CIFAR-10 Batch 1:  Loss:    1.2847 Validiation Accuracy: 0.485000\n",
      "Epoch 46, CIFAR-10 Batch 1:  Loss:    1.2761 Validiation Accuracy: 0.491600\n",
      "Epoch 47, CIFAR-10 Batch 1:  Loss:    1.2600 Validiation Accuracy: 0.496200\n",
      "Epoch 48, CIFAR-10 Batch 1:  Loss:    1.2640 Validiation Accuracy: 0.487600\n",
      "Epoch 49, CIFAR-10 Batch 1:  Loss:    1.2972 Validiation Accuracy: 0.479800\n",
      "Epoch 50, CIFAR-10 Batch 1:  Loss:    1.2540 Validiation Accuracy: 0.498800\n",
      "Epoch 51, CIFAR-10 Batch 1:  Loss:    1.2404 Validiation Accuracy: 0.490800\n",
      "Epoch 52, CIFAR-10 Batch 1:  Loss:    1.2214 Validiation Accuracy: 0.501000\n",
      "Epoch 53, CIFAR-10 Batch 1:  Loss:    1.2113 Validiation Accuracy: 0.498600\n",
      "Epoch 54, CIFAR-10 Batch 1:  Loss:    1.1913 Validiation Accuracy: 0.501600\n",
      "Epoch 55, CIFAR-10 Batch 1:  Loss:    1.1792 Validiation Accuracy: 0.512800\n"
     ]
    }
   ],
   "source": [
    "\"\"\"\n",
    "DON'T MODIFY ANYTHING IN THIS CELL\n",
    "\"\"\"\n",
    "print('Checking the Training on a Single Batch...')\n",
    "with tf.Session() as sess:\n",
    "    # Initializing the variables\n",
    "    sess.run(tf.global_variables_initializer())\n",
    "    \n",
    "    # Training cycle\n",
    "    for epoch in range(epochs):\n",
    "        batch_i = 1\n",
    "        for batch_features, batch_labels in helper.load_preprocess_training_batch(batch_i, batch_size):\n",
    "            train_neural_network(sess, optimizer, keep_probability, batch_features, batch_labels)\n",
    "        print('Epoch {:>2}, CIFAR-10 Batch {}:  '.format(epoch + 1, batch_i), end='')\n",
    "        print_stats(sess, batch_features, batch_labels, cost, accuracy)"
   ]
  },
  {
   "cell_type": "markdown",
   "metadata": {
    "deletable": true,
    "editable": true
   },
   "source": [
    "### Fully Train the Model\n",
    "Now that you got a good accuracy with a single CIFAR-10 batch, try it with all five batches."
   ]
  },
  {
   "cell_type": "code",
   "execution_count": 50,
   "metadata": {
    "collapsed": false,
    "deletable": true,
    "editable": true
   },
   "outputs": [
    {
     "name": "stdout",
     "output_type": "stream",
     "text": [
      "Training...\n",
      "Epoch  1, CIFAR-10 Batch 1:  Loss:    2.2842 Validiation Accuracy: 0.098600\n",
      "Epoch  1, CIFAR-10 Batch 2:  Loss:    2.1770 Validiation Accuracy: 0.225200\n",
      "Epoch  1, CIFAR-10 Batch 3:  Loss:    2.0910 Validiation Accuracy: 0.234600\n",
      "Epoch  1, CIFAR-10 Batch 4:  Loss:    2.0295 Validiation Accuracy: 0.236600\n",
      "Epoch  1, CIFAR-10 Batch 5:  Loss:    2.0262 Validiation Accuracy: 0.259000\n",
      "Epoch  2, CIFAR-10 Batch 1:  Loss:    2.0429 Validiation Accuracy: 0.258000\n",
      "Epoch  2, CIFAR-10 Batch 2:  Loss:    2.0069 Validiation Accuracy: 0.267000\n",
      "Epoch  2, CIFAR-10 Batch 3:  Loss:    1.9715 Validiation Accuracy: 0.274200\n",
      "Epoch  2, CIFAR-10 Batch 4:  Loss:    1.9323 Validiation Accuracy: 0.277400\n",
      "Epoch  2, CIFAR-10 Batch 5:  Loss:    1.9236 Validiation Accuracy: 0.291400\n",
      "Epoch  3, CIFAR-10 Batch 1:  Loss:    1.9617 Validiation Accuracy: 0.298200\n",
      "Epoch  3, CIFAR-10 Batch 2:  Loss:    1.9022 Validiation Accuracy: 0.320400\n",
      "Epoch  3, CIFAR-10 Batch 3:  Loss:    1.8590 Validiation Accuracy: 0.329400\n",
      "Epoch  3, CIFAR-10 Batch 4:  Loss:    1.8174 Validiation Accuracy: 0.344000\n",
      "Epoch  3, CIFAR-10 Batch 5:  Loss:    1.7938 Validiation Accuracy: 0.348800\n",
      "Epoch  4, CIFAR-10 Batch 1:  Loss:    1.8326 Validiation Accuracy: 0.347600\n",
      "Epoch  4, CIFAR-10 Batch 2:  Loss:    1.7592 Validiation Accuracy: 0.359400\n",
      "Epoch  4, CIFAR-10 Batch 3:  Loss:    1.7145 Validiation Accuracy: 0.371600\n",
      "Epoch  4, CIFAR-10 Batch 4:  Loss:    1.6950 Validiation Accuracy: 0.383600\n",
      "Epoch  4, CIFAR-10 Batch 5:  Loss:    1.7222 Validiation Accuracy: 0.381400\n",
      "Epoch  5, CIFAR-10 Batch 1:  Loss:    1.6979 Validiation Accuracy: 0.394800\n",
      "Epoch  5, CIFAR-10 Batch 2:  Loss:    1.6552 Validiation Accuracy: 0.407000\n",
      "Epoch  5, CIFAR-10 Batch 3:  Loss:    1.5930 Validiation Accuracy: 0.406200\n",
      "Epoch  5, CIFAR-10 Batch 4:  Loss:    1.5896 Validiation Accuracy: 0.415800\n",
      "Epoch  5, CIFAR-10 Batch 5:  Loss:    1.6332 Validiation Accuracy: 0.411600\n",
      "Epoch  6, CIFAR-10 Batch 1:  Loss:    1.6065 Validiation Accuracy: 0.412800\n",
      "Epoch  6, CIFAR-10 Batch 2:  Loss:    1.5954 Validiation Accuracy: 0.424800\n",
      "Epoch  6, CIFAR-10 Batch 3:  Loss:    1.5535 Validiation Accuracy: 0.418400\n",
      "Epoch  6, CIFAR-10 Batch 4:  Loss:    1.5352 Validiation Accuracy: 0.432200\n",
      "Epoch  6, CIFAR-10 Batch 5:  Loss:    1.5850 Validiation Accuracy: 0.433600\n",
      "Epoch  7, CIFAR-10 Batch 1:  Loss:    1.5507 Validiation Accuracy: 0.429200\n",
      "Epoch  7, CIFAR-10 Batch 2:  Loss:    1.5396 Validiation Accuracy: 0.441000\n",
      "Epoch  7, CIFAR-10 Batch 3:  Loss:    1.4790 Validiation Accuracy: 0.436800\n",
      "Epoch  7, CIFAR-10 Batch 4:  Loss:    1.4930 Validiation Accuracy: 0.442200\n",
      "Epoch  7, CIFAR-10 Batch 5:  Loss:    1.5440 Validiation Accuracy: 0.440800\n",
      "Epoch  8, CIFAR-10 Batch 1:  Loss:    1.5146 Validiation Accuracy: 0.440400\n",
      "Epoch  8, CIFAR-10 Batch 2:  Loss:    1.5021 Validiation Accuracy: 0.452800\n",
      "Epoch  8, CIFAR-10 Batch 3:  Loss:    1.4384 Validiation Accuracy: 0.456400\n",
      "Epoch  8, CIFAR-10 Batch 4:  Loss:    1.4507 Validiation Accuracy: 0.451200\n",
      "Epoch  8, CIFAR-10 Batch 5:  Loss:    1.5022 Validiation Accuracy: 0.461400\n",
      "Epoch  9, CIFAR-10 Batch 1:  Loss:    1.4824 Validiation Accuracy: 0.457200\n",
      "Epoch  9, CIFAR-10 Batch 2:  Loss:    1.4520 Validiation Accuracy: 0.465200\n",
      "Epoch  9, CIFAR-10 Batch 3:  Loss:    1.3998 Validiation Accuracy: 0.470400\n",
      "Epoch  9, CIFAR-10 Batch 4:  Loss:    1.4154 Validiation Accuracy: 0.470600\n",
      "Epoch  9, CIFAR-10 Batch 5:  Loss:    1.4594 Validiation Accuracy: 0.470800\n",
      "Epoch 10, CIFAR-10 Batch 1:  Loss:    1.4422 Validiation Accuracy: 0.469400\n",
      "Epoch 10, CIFAR-10 Batch 2:  Loss:    1.4153 Validiation Accuracy: 0.480200\n",
      "Epoch 10, CIFAR-10 Batch 3:  Loss:    1.3794 Validiation Accuracy: 0.480200\n",
      "Epoch 10, CIFAR-10 Batch 4:  Loss:    1.3785 Validiation Accuracy: 0.482200\n",
      "Epoch 10, CIFAR-10 Batch 5:  Loss:    1.4142 Validiation Accuracy: 0.483800\n",
      "Epoch 11, CIFAR-10 Batch 1:  Loss:    1.4095 Validiation Accuracy: 0.480800\n",
      "Epoch 11, CIFAR-10 Batch 2:  Loss:    1.3934 Validiation Accuracy: 0.485200\n",
      "Epoch 11, CIFAR-10 Batch 3:  Loss:    1.3516 Validiation Accuracy: 0.481800\n",
      "Epoch 11, CIFAR-10 Batch 4:  Loss:    1.3370 Validiation Accuracy: 0.494200\n",
      "Epoch 11, CIFAR-10 Batch 5:  Loss:    1.3848 Validiation Accuracy: 0.491600\n",
      "Epoch 12, CIFAR-10 Batch 1:  Loss:    1.3734 Validiation Accuracy: 0.494800\n",
      "Epoch 12, CIFAR-10 Batch 2:  Loss:    1.3629 Validiation Accuracy: 0.495800\n",
      "Epoch 12, CIFAR-10 Batch 3:  Loss:    1.3646 Validiation Accuracy: 0.489200\n",
      "Epoch 12, CIFAR-10 Batch 4:  Loss:    1.3106 Validiation Accuracy: 0.498800\n",
      "Epoch 12, CIFAR-10 Batch 5:  Loss:    1.3490 Validiation Accuracy: 0.508200\n",
      "Epoch 13, CIFAR-10 Batch 1:  Loss:    1.3448 Validiation Accuracy: 0.507000\n",
      "Epoch 13, CIFAR-10 Batch 2:  Loss:    1.3203 Validiation Accuracy: 0.505800\n",
      "Epoch 13, CIFAR-10 Batch 3:  Loss:    1.2787 Validiation Accuracy: 0.512000\n",
      "Epoch 13, CIFAR-10 Batch 4:  Loss:    1.2727 Validiation Accuracy: 0.515400\n",
      "Epoch 13, CIFAR-10 Batch 5:  Loss:    1.3210 Validiation Accuracy: 0.514600\n",
      "Epoch 14, CIFAR-10 Batch 1:  Loss:    1.3127 Validiation Accuracy: 0.517400\n",
      "Epoch 14, CIFAR-10 Batch 2:  Loss:    1.2954 Validiation Accuracy: 0.515800\n",
      "Epoch 14, CIFAR-10 Batch 3:  Loss:    1.2482 Validiation Accuracy: 0.518400\n",
      "Epoch 14, CIFAR-10 Batch 4:  Loss:    1.2377 Validiation Accuracy: 0.524600\n",
      "Epoch 14, CIFAR-10 Batch 5:  Loss:    1.2751 Validiation Accuracy: 0.527400\n",
      "Epoch 15, CIFAR-10 Batch 1:  Loss:    1.2709 Validiation Accuracy: 0.528400\n",
      "Epoch 15, CIFAR-10 Batch 2:  Loss:    1.2707 Validiation Accuracy: 0.519600\n",
      "Epoch 15, CIFAR-10 Batch 3:  Loss:    1.2421 Validiation Accuracy: 0.517000\n",
      "Epoch 15, CIFAR-10 Batch 4:  Loss:    1.2233 Validiation Accuracy: 0.529600\n",
      "Epoch 15, CIFAR-10 Batch 5:  Loss:    1.2551 Validiation Accuracy: 0.533600\n",
      "Epoch 16, CIFAR-10 Batch 1:  Loss:    1.2558 Validiation Accuracy: 0.533800\n",
      "Epoch 16, CIFAR-10 Batch 2:  Loss:    1.2524 Validiation Accuracy: 0.526600\n",
      "Epoch 16, CIFAR-10 Batch 3:  Loss:    1.1866 Validiation Accuracy: 0.534000\n",
      "Epoch 16, CIFAR-10 Batch 4:  Loss:    1.2021 Validiation Accuracy: 0.538400\n",
      "Epoch 16, CIFAR-10 Batch 5:  Loss:    1.2380 Validiation Accuracy: 0.536400\n",
      "Epoch 17, CIFAR-10 Batch 1:  Loss:    1.2225 Validiation Accuracy: 0.540200\n",
      "Epoch 17, CIFAR-10 Batch 2:  Loss:    1.2340 Validiation Accuracy: 0.530200\n",
      "Epoch 17, CIFAR-10 Batch 3:  Loss:    1.1766 Validiation Accuracy: 0.541400\n",
      "Epoch 17, CIFAR-10 Batch 4:  Loss:    1.1728 Validiation Accuracy: 0.546800\n",
      "Epoch 17, CIFAR-10 Batch 5:  Loss:    1.2205 Validiation Accuracy: 0.544600\n",
      "Epoch 18, CIFAR-10 Batch 1:  Loss:    1.2078 Validiation Accuracy: 0.551800\n",
      "Epoch 18, CIFAR-10 Batch 2:  Loss:    1.1934 Validiation Accuracy: 0.547600\n",
      "Epoch 18, CIFAR-10 Batch 3:  Loss:    1.1370 Validiation Accuracy: 0.549400\n",
      "Epoch 18, CIFAR-10 Batch 4:  Loss:    1.1589 Validiation Accuracy: 0.554200\n",
      "Epoch 18, CIFAR-10 Batch 5:  Loss:    1.1708 Validiation Accuracy: 0.556400\n",
      "Epoch 19, CIFAR-10 Batch 1:  Loss:    1.1724 Validiation Accuracy: 0.560000\n",
      "Epoch 19, CIFAR-10 Batch 2:  Loss:    1.1733 Validiation Accuracy: 0.557400\n",
      "Epoch 19, CIFAR-10 Batch 3:  Loss:    1.1022 Validiation Accuracy: 0.559200\n",
      "Epoch 19, CIFAR-10 Batch 4:  Loss:    1.1292 Validiation Accuracy: 0.561200\n",
      "Epoch 19, CIFAR-10 Batch 5:  Loss:    1.1363 Validiation Accuracy: 0.566600\n",
      "Epoch 20, CIFAR-10 Batch 1:  Loss:    1.1407 Validiation Accuracy: 0.565200\n",
      "Epoch 20, CIFAR-10 Batch 2:  Loss:    1.1563 Validiation Accuracy: 0.557000\n",
      "Epoch 20, CIFAR-10 Batch 3:  Loss:    1.0745 Validiation Accuracy: 0.566800\n",
      "Epoch 20, CIFAR-10 Batch 4:  Loss:    1.1058 Validiation Accuracy: 0.564800\n",
      "Epoch 20, CIFAR-10 Batch 5:  Loss:    1.1239 Validiation Accuracy: 0.568800\n",
      "Epoch 21, CIFAR-10 Batch 1:  Loss:    1.1233 Validiation Accuracy: 0.572800\n",
      "Epoch 21, CIFAR-10 Batch 2:  Loss:    1.1193 Validiation Accuracy: 0.572800\n",
      "Epoch 21, CIFAR-10 Batch 3:  Loss:    1.0565 Validiation Accuracy: 0.574400\n",
      "Epoch 21, CIFAR-10 Batch 4:  Loss:    1.0869 Validiation Accuracy: 0.573200\n",
      "Epoch 21, CIFAR-10 Batch 5:  Loss:    1.0995 Validiation Accuracy: 0.570800\n",
      "Epoch 22, CIFAR-10 Batch 1:  Loss:    1.0988 Validiation Accuracy: 0.571400\n",
      "Epoch 22, CIFAR-10 Batch 2:  Loss:    1.0975 Validiation Accuracy: 0.580600\n",
      "Epoch 22, CIFAR-10 Batch 3:  Loss:    1.0295 Validiation Accuracy: 0.584200\n",
      "Epoch 22, CIFAR-10 Batch 4:  Loss:    1.0488 Validiation Accuracy: 0.583400\n",
      "Epoch 22, CIFAR-10 Batch 5:  Loss:    1.0727 Validiation Accuracy: 0.578600\n",
      "Epoch 23, CIFAR-10 Batch 1:  Loss:    1.0746 Validiation Accuracy: 0.579600\n",
      "Epoch 23, CIFAR-10 Batch 2:  Loss:    1.0660 Validiation Accuracy: 0.590200\n",
      "Epoch 23, CIFAR-10 Batch 3:  Loss:    0.9968 Validiation Accuracy: 0.586600\n",
      "Epoch 23, CIFAR-10 Batch 4:  Loss:    1.0315 Validiation Accuracy: 0.592000\n",
      "Epoch 23, CIFAR-10 Batch 5:  Loss:    1.0510 Validiation Accuracy: 0.587200\n",
      "Epoch 24, CIFAR-10 Batch 1:  Loss:    1.0466 Validiation Accuracy: 0.585400\n",
      "Epoch 24, CIFAR-10 Batch 2:  Loss:    1.0508 Validiation Accuracy: 0.586800\n",
      "Epoch 24, CIFAR-10 Batch 3:  Loss:    0.9862 Validiation Accuracy: 0.590600\n",
      "Epoch 24, CIFAR-10 Batch 4:  Loss:    1.0122 Validiation Accuracy: 0.590400\n",
      "Epoch 24, CIFAR-10 Batch 5:  Loss:    1.0290 Validiation Accuracy: 0.590600\n",
      "Epoch 25, CIFAR-10 Batch 1:  Loss:    1.0257 Validiation Accuracy: 0.589000\n",
      "Epoch 25, CIFAR-10 Batch 2:  Loss:    1.0170 Validiation Accuracy: 0.593800\n",
      "Epoch 25, CIFAR-10 Batch 3:  Loss:    0.9553 Validiation Accuracy: 0.597800\n",
      "Epoch 25, CIFAR-10 Batch 4:  Loss:    0.9831 Validiation Accuracy: 0.603200\n",
      "Epoch 25, CIFAR-10 Batch 5:  Loss:    1.0025 Validiation Accuracy: 0.597600\n",
      "Epoch 26, CIFAR-10 Batch 1:  Loss:    1.0029 Validiation Accuracy: 0.591800\n",
      "Epoch 26, CIFAR-10 Batch 2:  Loss:    1.0193 Validiation Accuracy: 0.591000\n",
      "Epoch 26, CIFAR-10 Batch 3:  Loss:    0.9456 Validiation Accuracy: 0.596400\n",
      "Epoch 26, CIFAR-10 Batch 4:  Loss:    0.9748 Validiation Accuracy: 0.601400\n",
      "Epoch 26, CIFAR-10 Batch 5:  Loss:    0.9858 Validiation Accuracy: 0.597400\n",
      "Epoch 27, CIFAR-10 Batch 1:  Loss:    1.0039 Validiation Accuracy: 0.590200\n",
      "Epoch 27, CIFAR-10 Batch 2:  Loss:    0.9826 Validiation Accuracy: 0.605400\n",
      "Epoch 27, CIFAR-10 Batch 3:  Loss:    0.9340 Validiation Accuracy: 0.600800\n",
      "Epoch 27, CIFAR-10 Batch 4:  Loss:    0.9544 Validiation Accuracy: 0.603800\n",
      "Epoch 27, CIFAR-10 Batch 5:  Loss:    0.9700 Validiation Accuracy: 0.600600\n",
      "Epoch 28, CIFAR-10 Batch 1:  Loss:    0.9637 Validiation Accuracy: 0.604200\n",
      "Epoch 28, CIFAR-10 Batch 2:  Loss:    0.9713 Validiation Accuracy: 0.602800\n",
      "Epoch 28, CIFAR-10 Batch 3:  Loss:    0.9044 Validiation Accuracy: 0.608600\n",
      "Epoch 28, CIFAR-10 Batch 4:  Loss:    0.9374 Validiation Accuracy: 0.607400\n",
      "Epoch 28, CIFAR-10 Batch 5:  Loss:    0.9557 Validiation Accuracy: 0.605200\n",
      "Epoch 29, CIFAR-10 Batch 1:  Loss:    0.9569 Validiation Accuracy: 0.603400\n",
      "Epoch 29, CIFAR-10 Batch 2:  Loss:    0.9577 Validiation Accuracy: 0.605600\n",
      "Epoch 29, CIFAR-10 Batch 3:  Loss:    0.8943 Validiation Accuracy: 0.608800\n",
      "Epoch 29, CIFAR-10 Batch 4:  Loss:    0.9133 Validiation Accuracy: 0.611400\n",
      "Epoch 29, CIFAR-10 Batch 5:  Loss:    0.9299 Validiation Accuracy: 0.610200\n",
      "Epoch 30, CIFAR-10 Batch 1:  Loss:    0.9252 Validiation Accuracy: 0.616200\n",
      "Epoch 30, CIFAR-10 Batch 2:  Loss:    0.9366 Validiation Accuracy: 0.609800\n",
      "Epoch 30, CIFAR-10 Batch 3:  Loss:    0.8682 Validiation Accuracy: 0.617400\n",
      "Epoch 30, CIFAR-10 Batch 4:  Loss:    0.9012 Validiation Accuracy: 0.622000\n",
      "Epoch 30, CIFAR-10 Batch 5:  Loss:    0.9063 Validiation Accuracy: 0.616000\n",
      "Epoch 31, CIFAR-10 Batch 1:  Loss:    0.9038 Validiation Accuracy: 0.618200\n",
      "Epoch 31, CIFAR-10 Batch 2:  Loss:    0.9039 Validiation Accuracy: 0.625600\n",
      "Epoch 31, CIFAR-10 Batch 3:  Loss:    0.8418 Validiation Accuracy: 0.621000\n",
      "Epoch 31, CIFAR-10 Batch 4:  Loss:    0.8819 Validiation Accuracy: 0.621400\n",
      "Epoch 31, CIFAR-10 Batch 5:  Loss:    0.8881 Validiation Accuracy: 0.624600\n",
      "Epoch 32, CIFAR-10 Batch 1:  Loss:    0.8950 Validiation Accuracy: 0.620600\n",
      "Epoch 32, CIFAR-10 Batch 2:  Loss:    0.8855 Validiation Accuracy: 0.631400\n",
      "Epoch 32, CIFAR-10 Batch 3:  Loss:    0.8236 Validiation Accuracy: 0.624400\n",
      "Epoch 32, CIFAR-10 Batch 4:  Loss:    0.8646 Validiation Accuracy: 0.627800\n",
      "Epoch 32, CIFAR-10 Batch 5:  Loss:    0.8640 Validiation Accuracy: 0.625200\n",
      "Epoch 33, CIFAR-10 Batch 1:  Loss:    0.8780 Validiation Accuracy: 0.624400\n",
      "Epoch 33, CIFAR-10 Batch 2:  Loss:    0.8751 Validiation Accuracy: 0.631600\n",
      "Epoch 33, CIFAR-10 Batch 3:  Loss:    0.8286 Validiation Accuracy: 0.621600\n",
      "Epoch 33, CIFAR-10 Batch 4:  Loss:    0.8513 Validiation Accuracy: 0.625400\n",
      "Epoch 33, CIFAR-10 Batch 5:  Loss:    0.8657 Validiation Accuracy: 0.624600\n",
      "Epoch 34, CIFAR-10 Batch 1:  Loss:    0.8855 Validiation Accuracy: 0.619000\n",
      "Epoch 34, CIFAR-10 Batch 2:  Loss:    0.8675 Validiation Accuracy: 0.623200\n",
      "Epoch 34, CIFAR-10 Batch 3:  Loss:    0.8183 Validiation Accuracy: 0.621600\n",
      "Epoch 34, CIFAR-10 Batch 4:  Loss:    0.8290 Validiation Accuracy: 0.634200\n",
      "Epoch 34, CIFAR-10 Batch 5:  Loss:    0.8563 Validiation Accuracy: 0.617400\n",
      "Epoch 35, CIFAR-10 Batch 1:  Loss:    0.8499 Validiation Accuracy: 0.626400\n",
      "Epoch 35, CIFAR-10 Batch 2:  Loss:    0.8469 Validiation Accuracy: 0.626200\n",
      "Epoch 35, CIFAR-10 Batch 3:  Loss:    0.7905 Validiation Accuracy: 0.632800\n",
      "Epoch 35, CIFAR-10 Batch 4:  Loss:    0.8220 Validiation Accuracy: 0.630400\n",
      "Epoch 35, CIFAR-10 Batch 5:  Loss:    0.8272 Validiation Accuracy: 0.632400\n",
      "Epoch 36, CIFAR-10 Batch 1:  Loss:    0.8357 Validiation Accuracy: 0.628000\n",
      "Epoch 36, CIFAR-10 Batch 2:  Loss:    0.8188 Validiation Accuracy: 0.637800\n",
      "Epoch 36, CIFAR-10 Batch 3:  Loss:    0.7720 Validiation Accuracy: 0.634400\n",
      "Epoch 36, CIFAR-10 Batch 4:  Loss:    0.7963 Validiation Accuracy: 0.638600\n",
      "Epoch 36, CIFAR-10 Batch 5:  Loss:    0.8202 Validiation Accuracy: 0.628600\n",
      "Epoch 37, CIFAR-10 Batch 1:  Loss:    0.8191 Validiation Accuracy: 0.633000\n",
      "Epoch 37, CIFAR-10 Batch 2:  Loss:    0.8223 Validiation Accuracy: 0.637200\n",
      "Epoch 37, CIFAR-10 Batch 3:  Loss:    0.7588 Validiation Accuracy: 0.634000\n",
      "Epoch 37, CIFAR-10 Batch 4:  Loss:    0.7819 Validiation Accuracy: 0.634000\n",
      "Epoch 37, CIFAR-10 Batch 5:  Loss:    0.8097 Validiation Accuracy: 0.634800\n",
      "Epoch 38, CIFAR-10 Batch 1:  Loss:    0.7999 Validiation Accuracy: 0.640400\n",
      "Epoch 38, CIFAR-10 Batch 2:  Loss:    0.8073 Validiation Accuracy: 0.634400\n",
      "Epoch 38, CIFAR-10 Batch 3:  Loss:    0.7512 Validiation Accuracy: 0.636600\n",
      "Epoch 38, CIFAR-10 Batch 4:  Loss:    0.7758 Validiation Accuracy: 0.635400\n",
      "Epoch 38, CIFAR-10 Batch 5:  Loss:    0.8055 Validiation Accuracy: 0.641800\n",
      "Epoch 39, CIFAR-10 Batch 1:  Loss:    0.7886 Validiation Accuracy: 0.639200\n",
      "Epoch 39, CIFAR-10 Batch 2:  Loss:    0.7830 Validiation Accuracy: 0.639000\n",
      "Epoch 39, CIFAR-10 Batch 3:  Loss:    0.7365 Validiation Accuracy: 0.643000\n",
      "Epoch 39, CIFAR-10 Batch 4:  Loss:    0.7663 Validiation Accuracy: 0.640000\n",
      "Epoch 39, CIFAR-10 Batch 5:  Loss:    0.7878 Validiation Accuracy: 0.639400\n",
      "Epoch 40, CIFAR-10 Batch 1:  Loss:    0.7824 Validiation Accuracy: 0.634400\n",
      "Epoch 40, CIFAR-10 Batch 2:  Loss:    0.8027 Validiation Accuracy: 0.628000\n",
      "Epoch 40, CIFAR-10 Batch 3:  Loss:    0.7398 Validiation Accuracy: 0.644800\n",
      "Epoch 40, CIFAR-10 Batch 4:  Loss:    0.7658 Validiation Accuracy: 0.642400\n",
      "Epoch 40, CIFAR-10 Batch 5:  Loss:    0.7544 Validiation Accuracy: 0.646600\n",
      "Epoch 41, CIFAR-10 Batch 1:  Loss:    0.7615 Validiation Accuracy: 0.638200\n",
      "Epoch 41, CIFAR-10 Batch 2:  Loss:    0.7688 Validiation Accuracy: 0.640600\n",
      "Epoch 41, CIFAR-10 Batch 3:  Loss:    0.7258 Validiation Accuracy: 0.643200\n",
      "Epoch 41, CIFAR-10 Batch 4:  Loss:    0.7371 Validiation Accuracy: 0.645200\n",
      "Epoch 41, CIFAR-10 Batch 5:  Loss:    0.7383 Validiation Accuracy: 0.648000\n",
      "Epoch 42, CIFAR-10 Batch 1:  Loss:    0.7354 Validiation Accuracy: 0.649800\n",
      "Epoch 42, CIFAR-10 Batch 2:  Loss:    0.7524 Validiation Accuracy: 0.646400\n",
      "Epoch 42, CIFAR-10 Batch 3:  Loss:    0.6798 Validiation Accuracy: 0.652800\n",
      "Epoch 42, CIFAR-10 Batch 4:  Loss:    0.7094 Validiation Accuracy: 0.655600\n",
      "Epoch 42, CIFAR-10 Batch 5:  Loss:    0.7155 Validiation Accuracy: 0.655800\n",
      "Epoch 43, CIFAR-10 Batch 1:  Loss:    0.7182 Validiation Accuracy: 0.652200\n",
      "Epoch 43, CIFAR-10 Batch 2:  Loss:    0.7138 Validiation Accuracy: 0.657800\n",
      "Epoch 43, CIFAR-10 Batch 3:  Loss:    0.6735 Validiation Accuracy: 0.659400\n",
      "Epoch 43, CIFAR-10 Batch 4:  Loss:    0.6912 Validiation Accuracy: 0.657000\n",
      "Epoch 43, CIFAR-10 Batch 5:  Loss:    0.7060 Validiation Accuracy: 0.660800\n",
      "Epoch 44, CIFAR-10 Batch 1:  Loss:    0.7055 Validiation Accuracy: 0.658000\n",
      "Epoch 44, CIFAR-10 Batch 2:  Loss:    0.7198 Validiation Accuracy: 0.659600\n",
      "Epoch 44, CIFAR-10 Batch 3:  Loss:    0.6637 Validiation Accuracy: 0.661000\n",
      "Epoch 44, CIFAR-10 Batch 4:  Loss:    0.6864 Validiation Accuracy: 0.658000\n",
      "Epoch 44, CIFAR-10 Batch 5:  Loss:    0.6887 Validiation Accuracy: 0.660000\n",
      "Epoch 45, CIFAR-10 Batch 1:  Loss:    0.6810 Validiation Accuracy: 0.657400\n",
      "Epoch 45, CIFAR-10 Batch 2:  Loss:    0.6983 Validiation Accuracy: 0.656800\n",
      "Epoch 45, CIFAR-10 Batch 3:  Loss:    0.6584 Validiation Accuracy: 0.662400\n",
      "Epoch 45, CIFAR-10 Batch 4:  Loss:    0.6622 Validiation Accuracy: 0.664600\n",
      "Epoch 45, CIFAR-10 Batch 5:  Loss:    0.6707 Validiation Accuracy: 0.664200\n",
      "Epoch 46, CIFAR-10 Batch 1:  Loss:    0.6676 Validiation Accuracy: 0.659600\n",
      "Epoch 46, CIFAR-10 Batch 2:  Loss:    0.6739 Validiation Accuracy: 0.664400\n",
      "Epoch 46, CIFAR-10 Batch 3:  Loss:    0.6274 Validiation Accuracy: 0.666600\n",
      "Epoch 46, CIFAR-10 Batch 4:  Loss:    0.6558 Validiation Accuracy: 0.660400\n",
      "Epoch 46, CIFAR-10 Batch 5:  Loss:    0.6606 Validiation Accuracy: 0.666400\n",
      "Epoch 47, CIFAR-10 Batch 1:  Loss:    0.6657 Validiation Accuracy: 0.661600\n",
      "Epoch 47, CIFAR-10 Batch 2:  Loss:    0.6702 Validiation Accuracy: 0.661600\n",
      "Epoch 47, CIFAR-10 Batch 3:  Loss:    0.6111 Validiation Accuracy: 0.668200\n",
      "Epoch 47, CIFAR-10 Batch 4:  Loss:    0.6486 Validiation Accuracy: 0.662200\n",
      "Epoch 47, CIFAR-10 Batch 5:  Loss:    0.6580 Validiation Accuracy: 0.662000\n",
      "Epoch 48, CIFAR-10 Batch 1:  Loss:    0.6378 Validiation Accuracy: 0.660600\n",
      "Epoch 48, CIFAR-10 Batch 2:  Loss:    0.6565 Validiation Accuracy: 0.668600\n",
      "Epoch 48, CIFAR-10 Batch 3:  Loss:    0.6075 Validiation Accuracy: 0.670800\n",
      "Epoch 48, CIFAR-10 Batch 4:  Loss:    0.6319 Validiation Accuracy: 0.665400\n",
      "Epoch 48, CIFAR-10 Batch 5:  Loss:    0.6377 Validiation Accuracy: 0.668200\n",
      "Epoch 49, CIFAR-10 Batch 1:  Loss:    0.6359 Validiation Accuracy: 0.660800\n",
      "Epoch 49, CIFAR-10 Batch 2:  Loss:    0.6431 Validiation Accuracy: 0.665000\n",
      "Epoch 49, CIFAR-10 Batch 3:  Loss:    0.5964 Validiation Accuracy: 0.673200\n",
      "Epoch 49, CIFAR-10 Batch 4:  Loss:    0.6168 Validiation Accuracy: 0.669200\n",
      "Epoch 49, CIFAR-10 Batch 5:  Loss:    0.6256 Validiation Accuracy: 0.668200\n",
      "Epoch 50, CIFAR-10 Batch 1:  Loss:    0.6214 Validiation Accuracy: 0.667800\n",
      "Epoch 50, CIFAR-10 Batch 2:  Loss:    0.6342 Validiation Accuracy: 0.665400\n",
      "Epoch 50, CIFAR-10 Batch 3:  Loss:    0.5860 Validiation Accuracy: 0.668800\n",
      "Epoch 50, CIFAR-10 Batch 4:  Loss:    0.6114 Validiation Accuracy: 0.669800\n",
      "Epoch 50, CIFAR-10 Batch 5:  Loss:    0.6012 Validiation Accuracy: 0.674800\n",
      "Epoch 51, CIFAR-10 Batch 1:  Loss:    0.6368 Validiation Accuracy: 0.662800\n",
      "Epoch 51, CIFAR-10 Batch 2:  Loss:    0.6108 Validiation Accuracy: 0.676000\n",
      "Epoch 51, CIFAR-10 Batch 3:  Loss:    0.5840 Validiation Accuracy: 0.669000\n",
      "Epoch 51, CIFAR-10 Batch 4:  Loss:    0.5886 Validiation Accuracy: 0.674600\n",
      "Epoch 51, CIFAR-10 Batch 5:  Loss:    0.5799 Validiation Accuracy: 0.680400\n",
      "Epoch 52, CIFAR-10 Batch 1:  Loss:    0.5854 Validiation Accuracy: 0.675600\n",
      "Epoch 52, CIFAR-10 Batch 2:  Loss:    0.5988 Validiation Accuracy: 0.673400\n",
      "Epoch 52, CIFAR-10 Batch 3:  Loss:    0.5518 Validiation Accuracy: 0.676400\n",
      "Epoch 52, CIFAR-10 Batch 4:  Loss:    0.5694 Validiation Accuracy: 0.674800\n",
      "Epoch 52, CIFAR-10 Batch 5:  Loss:    0.5835 Validiation Accuracy: 0.672600\n",
      "Epoch 53, CIFAR-10 Batch 1:  Loss:    0.5807 Validiation Accuracy: 0.672200\n",
      "Epoch 53, CIFAR-10 Batch 2:  Loss:    0.5984 Validiation Accuracy: 0.667000\n",
      "Epoch 53, CIFAR-10 Batch 3:  Loss:    0.5339 Validiation Accuracy: 0.678400\n",
      "Epoch 53, CIFAR-10 Batch 4:  Loss:    0.5668 Validiation Accuracy: 0.677400\n",
      "Epoch 53, CIFAR-10 Batch 5:  Loss:    0.5633 Validiation Accuracy: 0.677200\n",
      "Epoch 54, CIFAR-10 Batch 1:  Loss:    0.5564 Validiation Accuracy: 0.678000\n",
      "Epoch 54, CIFAR-10 Batch 2:  Loss:    0.5855 Validiation Accuracy: 0.675800\n",
      "Epoch 54, CIFAR-10 Batch 3:  Loss:    0.5409 Validiation Accuracy: 0.675400\n",
      "Epoch 54, CIFAR-10 Batch 4:  Loss:    0.5501 Validiation Accuracy: 0.678600\n",
      "Epoch 54, CIFAR-10 Batch 5:  Loss:    0.5455 Validiation Accuracy: 0.680800\n",
      "Epoch 55, CIFAR-10 Batch 1:  Loss:    0.5573 Validiation Accuracy: 0.682200\n",
      "Epoch 55, CIFAR-10 Batch 2:  Loss:    0.5772 Validiation Accuracy: 0.677800\n",
      "Epoch 55, CIFAR-10 Batch 3:  Loss:    0.5217 Validiation Accuracy: 0.684600\n",
      "Epoch 55, CIFAR-10 Batch 4:  Loss:    0.5314 Validiation Accuracy: 0.682600\n",
      "Epoch 55, CIFAR-10 Batch 5:  Loss:    0.5413 Validiation Accuracy: 0.684400\n"
     ]
    }
   ],
   "source": [
    "\"\"\"\n",
    "DON'T MODIFY ANYTHING IN THIS CELL\n",
    "\"\"\"\n",
    "save_model_path = './image_classification'\n",
    "\n",
    "print('Training...')\n",
    "with tf.Session() as sess:\n",
    "    # Initializing the variables\n",
    "    sess.run(tf.global_variables_initializer())\n",
    "    \n",
    "    # Training cycle\n",
    "    for epoch in range(epochs):\n",
    "        # Loop over all batches\n",
    "        n_batches = 5\n",
    "        for batch_i in range(1, n_batches + 1):\n",
    "            for batch_features, batch_labels in helper.load_preprocess_training_batch(batch_i, batch_size):\n",
    "                train_neural_network(sess, optimizer, keep_probability, batch_features, batch_labels)\n",
    "            print('Epoch {:>2}, CIFAR-10 Batch {}:  '.format(epoch + 1, batch_i), end='')\n",
    "            print_stats(sess, batch_features, batch_labels, cost, accuracy)\n",
    "            \n",
    "    # Save Model\n",
    "    saver = tf.train.Saver()\n",
    "    save_path = saver.save(sess, save_model_path)"
   ]
  },
  {
   "cell_type": "markdown",
   "metadata": {
    "deletable": true,
    "editable": true
   },
   "source": [
    "# Checkpoint\n",
    "The model has been saved to disk.\n",
    "## Test Model\n",
    "Test your model against the test dataset.  This will be your final accuracy. You should have an accuracy greater than 50%. If you don't, keep tweaking the model architecture and parameters."
   ]
  },
  {
   "cell_type": "code",
   "execution_count": 51,
   "metadata": {
    "collapsed": false,
    "deletable": true,
    "editable": true
   },
   "outputs": [
    {
     "name": "stdout",
     "output_type": "stream",
     "text": [
      "Testing Accuracy: 0.6701050758361816\n",
      "\n"
     ]
    },
    {
     "data": {
      "image/png": "[encoded data removed]",
      "text/plain": [
       "<matplotlib.figure.Figure at 0x7fb9b38325c0>"
      ]
     },
     "metadata": {
      "image/png": {
       "height": 319,
       "width": 355
      }
     },
     "output_type": "display_data"
    }
   ],
   "source": [
    "\"\"\"\n",
    "DON'T MODIFY ANYTHING IN THIS CELL\n",
    "\"\"\"\n",
    "%matplotlib inline\n",
    "%config InlineBackend.figure_format = 'retina'\n",
    "\n",
    "import tensorflow as tf\n",
    "import pickle\n",
    "import helper\n",
    "import random\n",
    "\n",
    "# Set batch size if not already set\n",
    "try:\n",
    "    if batch_size:\n",
    "        pass\n",
    "except NameError:\n",
    "    batch_size = 64\n",
    "\n",
    "save_model_path = './image_classification'\n",
    "n_samples = 4\n",
    "top_n_predictions = 3\n",
    "\n",
    "def test_model():\n",
    "    \"\"\"\n",
    "    Test the saved model against the test dataset\n",
    "    \"\"\"\n",
    "\n",
    "    test_features, test_labels = pickle.load(open('preprocess_training.p', mode='rb'))\n",
    "    loaded_graph = tf.Graph()\n",
    "\n",
    "    with tf.Session(graph=loaded_graph) as sess:\n",
    "        # Load model\n",
    "        loader = tf.train.import_meta_graph(save_model_path + '.meta')\n",
    "        loader.restore(sess, save_model_path)\n",
    "\n",
    "        # Get Tensors from loaded model\n",
    "        loaded_x = loaded_graph.get_tensor_by_name('x:0')\n",
    "        loaded_y = loaded_graph.get_tensor_by_name('y:0')\n",
    "        loaded_keep_prob = loaded_graph.get_tensor_by_name('keep_prob:0')\n",
    "        loaded_logits = loaded_graph.get_tensor_by_name('logits:0')\n",
    "        loaded_acc = loaded_graph.get_tensor_by_name('accuracy:0')\n",
    "        \n",
    "        # Get accuracy in batches for memory limitations\n",
    "        test_batch_acc_total = 0\n",
    "        test_batch_count = 0\n",
    "        \n",
    "        for train_feature_batch, train_label_batch in helper.batch_features_labels(test_features, test_labels, batch_size):\n",
    "            test_batch_acc_total += sess.run(\n",
    "                loaded_acc,\n",
    "                feed_dict={loaded_x: train_feature_batch, loaded_y: train_label_batch, loaded_keep_prob: 1.0})\n",
    "            test_batch_count += 1\n",
    "\n",
    "        print('Testing Accuracy: {}\\n'.format(test_batch_acc_total/test_batch_count))\n",
    "\n",
    "        # Print Random Samples\n",
    "        random_test_features, random_test_labels = tuple(zip(*random.sample(list(zip(test_features, test_labels)), n_samples)))\n",
    "        random_test_predictions = sess.run(\n",
    "            tf.nn.top_k(tf.nn.softmax(loaded_logits), top_n_predictions),\n",
    "            feed_dict={loaded_x: random_test_features, loaded_y: random_test_labels, loaded_keep_prob: 1.0})\n",
    "        helper.display_image_predictions(random_test_features, random_test_labels, random_test_predictions)\n",
    "\n",
    "\n",
    "test_model()"
   ]
  },
  {
   "cell_type": "markdown",
   "metadata": {
    "deletable": true,
    "editable": true
   },
   "source": [
    "## Why 50-80% Accuracy?\n",
    "You might be wondering why you can't get an accuracy any higher. First things first, 50% isn't bad for a simple CNN.  Pure guessing would get you 10% accuracy. However, you might notice people are getting scores [well above 80%](http://rodrigob.github.io/are_we_there_yet/build/classification_datasets_results.html#43494641522d3130).  That's because we haven't taught you all there is to know about neural networks. We still need to cover a few more techniques.\n",
    "## Submitting This Project\n",
    "When submitting this project, make sure to run all the cells before saving the notebook.  Save the notebook file as \"dlnd_image_classification.ipynb\" and save it as a HTML file under \"File\" -> \"Download as\".  Include the \"helper.py\" and \"problem_unittests.py\" files in your submission."
   ]
  }
 ],
 "metadata": {
  "kernelspec": {
   "display_name": "Python 3",
   "language": "python",
   "name": "python3"
  },
  "language_info": {
   "codemirror_mode": {
    "name": "ipython",
    "version": 3
   },
   "file_extension": ".py",
   "mimetype": "text/x-python",
   "name": "python",
   "nbconvert_exporter": "python",
   "pygments_lexer": "ipython3",
   "version": "3.5.3"
  }
 },
 "nbformat": 4,
 "nbformat_minor": 0
}
